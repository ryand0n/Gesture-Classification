{
 "cells": [
  {
   "cell_type": "code",
   "execution_count": 1,
   "metadata": {},
   "outputs": [],
   "source": [
    "import pandas as pd\n",
    "import numpy as np"
   ]
  },
  {
   "cell_type": "code",
   "execution_count": 3,
   "metadata": {},
   "outputs": [
    {
     "data": {
      "text/html": [
       "<div>\n",
       "<style scoped>\n",
       "    .dataframe tbody tr th:only-of-type {\n",
       "        vertical-align: middle;\n",
       "    }\n",
       "\n",
       "    .dataframe tbody tr th {\n",
       "        vertical-align: top;\n",
       "    }\n",
       "\n",
       "    .dataframe thead th {\n",
       "        text-align: right;\n",
       "    }\n",
       "</style>\n",
       "<table border=\"1\" class=\"dataframe\">\n",
       "  <thead>\n",
       "    <tr style=\"text-align: right;\">\n",
       "      <th></th>\n",
       "      <th>index</th>\n",
       "      <th>x</th>\n",
       "      <th>y</th>\n",
       "      <th>z</th>\n",
       "    </tr>\n",
       "  </thead>\n",
       "  <tbody>\n",
       "    <tr>\n",
       "      <th>0</th>\n",
       "      <td>0</td>\n",
       "      <td>[]</td>\n",
       "      <td>[]</td>\n",
       "      <td>[]</td>\n",
       "    </tr>\n",
       "    <tr>\n",
       "      <th>1</th>\n",
       "      <td>1</td>\n",
       "      <td>[1.140625, 0.8173828, 0.4299316, 0.166748, -0....</td>\n",
       "      <td>[-0.4145508, -0.6882324, -0.7963867, -0.862548...</td>\n",
       "      <td>[-0.2453613, -0.07373047, -0.05883789, 0.03002...</td>\n",
       "    </tr>\n",
       "    <tr>\n",
       "      <th>2</th>\n",
       "      <td>2</td>\n",
       "      <td>[1.398193, 0.7104492, 0.2102051, 0.3088379, -0...</td>\n",
       "      <td>[-0.2036133, -0.6791992, -0.7861328, -0.920898...</td>\n",
       "      <td>[-0.09545898, -0.1057129, 0.06494141, 0.035400...</td>\n",
       "    </tr>\n",
       "    <tr>\n",
       "      <th>3</th>\n",
       "      <td>3</td>\n",
       "      <td>[0.5393066, 1.513672, 1.483887, 0.4118652, -0....</td>\n",
       "      <td>[0.0007324219, 0.3381348, 0.2709961, -0.687988...</td>\n",
       "      <td>[-0.2038574, -0.1320801, -0.08129883, -0.06274...</td>\n",
       "    </tr>\n",
       "    <tr>\n",
       "      <th>4</th>\n",
       "      <td>4</td>\n",
       "      <td>[1.465576, 0.8737793, 0.9082031, 0.08935547, -...</td>\n",
       "      <td>[-0.4223633, -0.5725098, -0.6682129, -0.859619...</td>\n",
       "      <td>[-0.4106445, -0.1640625, -0.05078125, 0.143798...</td>\n",
       "    </tr>\n",
       "  </tbody>\n",
       "</table>\n",
       "</div>"
      ],
      "text/plain": [
       "   index                                                  x  \\\n",
       "0      0                                                 []   \n",
       "1      1  [1.140625, 0.8173828, 0.4299316, 0.166748, -0....   \n",
       "2      2  [1.398193, 0.7104492, 0.2102051, 0.3088379, -0...   \n",
       "3      3  [0.5393066, 1.513672, 1.483887, 0.4118652, -0....   \n",
       "4      4  [1.465576, 0.8737793, 0.9082031, 0.08935547, -...   \n",
       "\n",
       "                                                   y  \\\n",
       "0                                                 []   \n",
       "1  [-0.4145508, -0.6882324, -0.7963867, -0.862548...   \n",
       "2  [-0.2036133, -0.6791992, -0.7861328, -0.920898...   \n",
       "3  [0.0007324219, 0.3381348, 0.2709961, -0.687988...   \n",
       "4  [-0.4223633, -0.5725098, -0.6682129, -0.859619...   \n",
       "\n",
       "                                                   z  \n",
       "0                                                 []  \n",
       "1  [-0.2453613, -0.07373047, -0.05883789, 0.03002...  \n",
       "2  [-0.09545898, -0.1057129, 0.06494141, 0.035400...  \n",
       "3  [-0.2038574, -0.1320801, -0.08129883, -0.06274...  \n",
       "4  [-0.4106445, -0.1640625, -0.05078125, 0.143798...  "
      ]
     },
     "execution_count": 3,
     "metadata": {},
     "output_type": "execute_result"
    }
   ],
   "source": [
    "raised_hands = pd.read_csv(\"../raised_hand_data.csv\")\n",
    "raised_hands.head()"
   ]
  },
  {
   "cell_type": "code",
   "execution_count": null,
   "metadata": {},
   "outputs": [],
   "source": []
  }
 ],
 "metadata": {
  "kernelspec": {
   "display_name": "Python 3.9.2 64-bit",
   "language": "python",
   "name": "python3"
  },
  "language_info": {
   "codemirror_mode": {
    "name": "ipython",
    "version": 3
   },
   "file_extension": ".py",
   "mimetype": "text/x-python",
   "name": "python",
   "nbconvert_exporter": "python",
   "pygments_lexer": "ipython3",
   "version": "3.9.2"
  },
  "orig_nbformat": 4,
  "vscode": {
   "interpreter": {
    "hash": "7b431b5f7e7e56386b371dbafada43d0e326e75c3feef5b2cbb6cb196720c5f0"
   }
  }
 },
 "nbformat": 4,
 "nbformat_minor": 2
}
